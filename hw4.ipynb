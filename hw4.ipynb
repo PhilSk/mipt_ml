{
 "cells": [
  {
   "cell_type": "code",
   "execution_count": 1,
   "metadata": {},
   "outputs": [],
   "source": [
    "import pandas as pd\n",
    "def test_func(column, target, dataset, min_count = 10):\n",
    "    dfavg = dataset[[column, target]][[column,target]].groupby([column]).mean()\n",
    "    dfcount = pd.merge(dfavg , dataset[[column,target]].groupby([column]).count(), on =column, how = 'inner', suffixes=('_mean', '_count'))\n",
    "    dfcount['me'] = (dfcount[target+'_mean'].values * dfcount[target+'_count'].values + min_count * dataset[target].mean())/(dfcount[target+'_mean'].values+min_count)\n",
    "    return pd.merge(dataset,dfcount, on = column, how = 'inner')['me'].values\n",
    "from sklearn import datasets\n",
    "iris = datasets.load_iris()\n",
    "X = pd.DataFrame(iris.data, columns =['col1','col2', 'col3','col4'])\n",
    "y = iris.target\n",
    "X['y'] = y"
   ]
  },
  {
   "cell_type": "code",
   "execution_count": 2,
   "metadata": {},
   "outputs": [
    {
     "data": {
      "text/plain": [
       "array([1.        , 1.        , 1.        , 1.        , 1.        ,\n",
       "       1.        , 1.        , 1.        , 1.        , 1.        ,\n",
       "       1.        , 1.        , 1.        , 1.        , 1.        ,\n",
       "       1.        , 1.        , 1.        , 1.        , 1.        ,\n",
       "       1.        , 1.        , 1.        , 1.        , 1.        ,\n",
       "       1.        , 1.        , 1.        , 1.        , 1.        ,\n",
       "       1.        , 1.        , 1.        , 1.        , 1.        ,\n",
       "       1.        , 1.        , 1.        , 1.        , 1.        ,\n",
       "       1.        , 1.        , 1.        , 1.        , 1.        ,\n",
       "       1.        , 1.        , 1.        , 1.        , 1.        ,\n",
       "       2.90909091, 2.90909091, 2.90909091, 2.90909091, 2.90909091,\n",
       "       2.90909091, 2.90909091, 2.90909091, 4.08      , 4.08      ,\n",
       "       4.08      , 4.08      , 4.08      , 4.08      , 4.08      ,\n",
       "       4.08      , 4.08      , 4.08      , 4.08      , 4.08      ,\n",
       "       4.        , 4.        , 4.        , 4.        , 4.        ,\n",
       "       4.        , 4.        , 4.        , 4.        , 4.        ,\n",
       "       4.        , 4.        , 4.        , 1.88235294, 1.88235294,\n",
       "       1.88235294, 1.88235294, 2.5       , 2.5       , 2.5       ,\n",
       "       2.5       , 2.5       , 2.5       , 2.5       , 1.5       ,\n",
       "       1.5       , 1.5       , 5.28813559, 5.28813559, 5.28813559,\n",
       "       5.28813559, 5.28813559, 5.28813559, 5.28813559, 5.28813559,\n",
       "       5.28813559, 5.28813559, 5.28813559, 5.28813559, 2.        ,\n",
       "       2.        , 2.        , 2.        , 2.        , 1.33333333,\n",
       "       1.33333333, 1.8       , 1.8       , 1.8       , 2.6       ,\n",
       "       2.6       , 2.6       , 2.6       , 2.6       , 3.        ,\n",
       "       3.        , 3.        , 3.        , 3.        , 3.        ,\n",
       "       1.8       , 1.8       , 1.8       , 3.        , 3.        ,\n",
       "       3.        , 3.        , 3.        , 3.        , 1.8       ,\n",
       "       1.8       , 1.8       , 3.8       , 3.8       , 3.8       ,\n",
       "       3.8       , 3.8       , 3.8       , 3.8       , 3.8       ])"
      ]
     },
     "execution_count": 2,
     "metadata": {},
     "output_type": "execute_result"
    }
   ],
   "source": [
    "test_func('col4', 'y', X, min_count = 3)\n"
   ]
  },
  {
   "cell_type": "code",
   "execution_count": null,
   "metadata": {},
   "outputs": [],
   "source": []
  }
 ],
 "metadata": {
  "kernelspec": {
   "display_name": "Python 3",
   "language": "python",
   "name": "python3"
  },
  "language_info": {
   "codemirror_mode": {
    "name": "ipython",
    "version": 3
   },
   "file_extension": ".py",
   "mimetype": "text/x-python",
   "name": "python",
   "nbconvert_exporter": "python",
   "pygments_lexer": "ipython3",
   "version": "3.7.0"
  }
 },
 "nbformat": 4,
 "nbformat_minor": 2
}
